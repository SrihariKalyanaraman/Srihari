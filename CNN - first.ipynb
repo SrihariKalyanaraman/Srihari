{
 "cells": [
  {
   "cell_type": "code",
   "execution_count": 35,
   "metadata": {},
   "outputs": [],
   "source": [
    "import numpy as np\n",
    "import pandas as pd"
   ]
  },
  {
   "cell_type": "code",
   "execution_count": 36,
   "metadata": {},
   "outputs": [],
   "source": [
    "from keras.models import Sequential\n",
    "from keras.layers import Convolution2D\n",
    "from keras.layers import MaxPooling2D\n",
    "from keras.layers import Flatten\n",
    "from keras.layers import Dense"
   ]
  },
  {
   "cell_type": "code",
   "execution_count": 37,
   "metadata": {},
   "outputs": [],
   "source": [
    "classifier = Sequential()"
   ]
  },
  {
   "cell_type": "code",
   "execution_count": 38,
   "metadata": {},
   "outputs": [
    {
     "name": "stderr",
     "output_type": "stream",
     "text": [
      "C:\\Users\\Srihari\\Anaconda3\\lib\\site-packages\\ipykernel_launcher.py:1: UserWarning: Update your `Conv2D` call to the Keras 2 API: `Conv2D(32, (3, 3), input_shape=(64, 64, 3..., activation=\"relu\")`\n",
      "  \"\"\"Entry point for launching an IPython kernel.\n"
     ]
    }
   ],
   "source": [
    "classifier.add(Convolution2D(32,3,3,input_shape=(64,64,3),activation= 'relu'))"
   ]
  },
  {
   "cell_type": "code",
   "execution_count": 40,
   "metadata": {},
   "outputs": [],
   "source": [
    "classifier.add(MaxPooling2D(pool_size = (2,2)))"
   ]
  },
  {
   "cell_type": "code",
   "execution_count": 41,
   "metadata": {},
   "outputs": [],
   "source": [
    "classifier.add(Flatten())"
   ]
  },
  {
   "cell_type": "code",
   "execution_count": 42,
   "metadata": {},
   "outputs": [
    {
     "name": "stderr",
     "output_type": "stream",
     "text": [
      "C:\\Users\\Srihari\\Anaconda3\\lib\\site-packages\\ipykernel_launcher.py:1: UserWarning: Update your `Dense` call to the Keras 2 API: `Dense(activation=\"relu\", units=128)`\n",
      "  \"\"\"Entry point for launching an IPython kernel.\n",
      "C:\\Users\\Srihari\\Anaconda3\\lib\\site-packages\\ipykernel_launcher.py:2: UserWarning: Update your `Dense` call to the Keras 2 API: `Dense(activation=\"sigmoid\", units=1)`\n",
      "  \n"
     ]
    }
   ],
   "source": [
    "classifier.add(Dense(output_dim=128,activation='relu'))\n",
    "classifier.add(Dense(output_dim=1,activation='sigmoid'))"
   ]
  },
  {
   "cell_type": "code",
   "execution_count": 43,
   "metadata": {},
   "outputs": [],
   "source": [
    "classifier.compile(optimizer='adam',loss='binary_crossentropy',metrics=['accuracy'])"
   ]
  },
  {
   "cell_type": "code",
   "execution_count": 44,
   "metadata": {},
   "outputs": [],
   "source": [
    "from keras.preprocessing.image import ImageDataGenerator\n",
    "train_datagen = ImageDataGenerator(rescale=1./255,shear_range=0.2,zoom_range=0.2,horizontal_flip=True)\n",
    "test_datagen = ImageDataGenerator(rescale=1./255)"
   ]
  },
  {
   "cell_type": "code",
   "execution_count": 45,
   "metadata": {},
   "outputs": [
    {
     "name": "stdout",
     "output_type": "stream",
     "text": [
      "Found 8000 images belonging to 2 classes.\n"
     ]
    }
   ],
   "source": [
    "training_set =  train_datagen.flow_from_directory(r'D:\\Data set\\P16-Convolutional-Neural-Networks\\Convolutional_Neural_Networks\\dataset\\training_set',\n",
    "                                                 target_size = (64,64),\n",
    "                                                 batch_size = 32,\n",
    "                                                 class_mode = 'binary')"
   ]
  },
  {
   "cell_type": "code",
   "execution_count": 46,
   "metadata": {},
   "outputs": [
    {
     "name": "stdout",
     "output_type": "stream",
     "text": [
      "Found 2000 images belonging to 2 classes.\n"
     ]
    }
   ],
   "source": [
    "test_set = test_datagen.flow_from_directory(r'D:\\Data set\\P16-Convolutional-Neural-Networks\\Convolutional_Neural_Networks\\dataset\\test_set',\n",
    "                                           target_size=(64,64),\n",
    "                                           batch_size= 32,\n",
    "                                           class_mode = 'binary')"
   ]
  },
  {
   "cell_type": "code",
   "execution_count": 47,
   "metadata": {},
   "outputs": [
    {
     "name": "stderr",
     "output_type": "stream",
     "text": [
      "C:\\Users\\Srihari\\Anaconda3\\lib\\site-packages\\ipykernel_launcher.py:1: UserWarning: The semantics of the Keras 2 argument `steps_per_epoch` is not the same as the Keras 1 argument `samples_per_epoch`. `steps_per_epoch` is the number of batches to draw from the generator at each epoch. Basically steps_per_epoch = samples_per_epoch/batch_size. Similarly `nb_val_samples`->`validation_steps` and `val_samples`->`steps` arguments have changed. Update your method calls accordingly.\n",
      "  \"\"\"Entry point for launching an IPython kernel.\n",
      "C:\\Users\\Srihari\\Anaconda3\\lib\\site-packages\\ipykernel_launcher.py:1: UserWarning: Update your `fit_generator` call to the Keras 2 API: `fit_generator(<keras.pre..., validation_data=<keras.pre..., steps_per_epoch=250, epochs=25, validation_steps=2000)`\n",
      "  \"\"\"Entry point for launching an IPython kernel.\n"
     ]
    },
    {
     "name": "stdout",
     "output_type": "stream",
     "text": [
      "Epoch 1/25\n",
      "250/250 [==============================] - 265s 1s/step - loss: 0.6688 - accuracy: 0.6003 - val_loss: 0.6845 - val_accuracy: 0.6285\n",
      "Epoch 2/25\n",
      "250/250 [==============================] - 267s 1s/step - loss: 0.6020 - accuracy: 0.6741 - val_loss: 0.5212 - val_accuracy: 0.7129\n",
      "Epoch 3/25\n",
      "250/250 [==============================] - 263s 1s/step - loss: 0.5682 - accuracy: 0.7053 - val_loss: 0.5082 - val_accuracy: 0.7329\n",
      "Epoch 4/25\n",
      "250/250 [==============================] - 252s 1s/step - loss: 0.5412 - accuracy: 0.7243 - val_loss: 0.5109 - val_accuracy: 0.7274\n",
      "Epoch 5/25\n",
      "250/250 [==============================] - 253s 1s/step - loss: 0.5286 - accuracy: 0.7333 - val_loss: 0.7165 - val_accuracy: 0.7291\n",
      "Epoch 6/25\n",
      "250/250 [==============================] - 244s 978ms/step - loss: 0.5118 - accuracy: 0.7426 - val_loss: 0.5168 - val_accuracy: 0.7496\n",
      "Epoch 7/25\n",
      "250/250 [==============================] - 275s 1s/step - loss: 0.4994 - accuracy: 0.7501 - val_loss: 0.4758 - val_accuracy: 0.7564\n",
      "Epoch 8/25\n",
      "250/250 [==============================] - 503s 2s/step - loss: 0.4913 - accuracy: 0.7635 - val_loss: 0.4753 - val_accuracy: 0.7677\n",
      "Epoch 9/25\n",
      "250/250 [==============================] - 541s 2s/step - loss: 0.4810 - accuracy: 0.7653 - val_loss: 0.6293 - val_accuracy: 0.7546\n",
      "Epoch 10/25\n",
      "250/250 [==============================] - 547s 2s/step - loss: 0.4685 - accuracy: 0.7735 - val_loss: 0.5230 - val_accuracy: 0.7746\n",
      "Epoch 11/25\n",
      "250/250 [==============================] - 497s 2s/step - loss: 0.4656 - accuracy: 0.7721 - val_loss: 0.4678 - val_accuracy: 0.7719\n",
      "Epoch 12/25\n",
      "250/250 [==============================] - 487s 2s/step - loss: 0.4609 - accuracy: 0.7749 - val_loss: 0.2822 - val_accuracy: 0.7538\n",
      "Epoch 13/25\n",
      "250/250 [==============================] - 493s 2s/step - loss: 0.4565 - accuracy: 0.7830 - val_loss: 0.3746 - val_accuracy: 0.7270\n",
      "Epoch 14/25\n",
      "250/250 [==============================] - 493s 2s/step - loss: 0.4464 - accuracy: 0.7855 - val_loss: 0.5743 - val_accuracy: 0.7581\n",
      "Epoch 15/25\n",
      "250/250 [==============================] - 498s 2s/step - loss: 0.4405 - accuracy: 0.7933 - val_loss: 0.4708 - val_accuracy: 0.7724\n",
      "Epoch 16/25\n",
      "250/250 [==============================] - 19127s 77s/step - loss: 0.4319 - accuracy: 0.7975 - val_loss: 0.6889 - val_accuracy: 0.7820\n",
      "Epoch 17/25\n",
      "250/250 [==============================] - 508s 2s/step - loss: 0.4309 - accuracy: 0.8010 - val_loss: 0.6370 - val_accuracy: 0.7441\n",
      "Epoch 18/25\n",
      "250/250 [==============================] - 481s 2s/step - loss: 0.4269 - accuracy: 0.7966 - val_loss: 0.3791 - val_accuracy: 0.7869\n",
      "Epoch 19/25\n",
      "250/250 [==============================] - 16431s 66s/step - loss: 0.4186 - accuracy: 0.8027 - val_loss: 0.3403 - val_accuracy: 0.7784\n",
      "Epoch 20/25\n",
      "250/250 [==============================] - 205s 821ms/step - loss: 0.4150 - accuracy: 0.8043 - val_loss: 0.5655 - val_accuracy: 0.7905\n",
      "Epoch 21/25\n",
      "250/250 [==============================] - 191s 766ms/step - loss: 0.4161 - accuracy: 0.8033 - val_loss: 0.8058 - val_accuracy: 0.7660\n",
      "Epoch 22/25\n",
      "250/250 [==============================] - 191s 762ms/step - loss: 0.4058 - accuracy: 0.8106 - val_loss: 0.4464 - val_accuracy: 0.7701\n",
      "Epoch 23/25\n",
      "250/250 [==============================] - 193s 773ms/step - loss: 0.4044 - accuracy: 0.8096 - val_loss: 0.9130 - val_accuracy: 0.7849\n",
      "Epoch 24/25\n",
      "250/250 [==============================] - 190s 760ms/step - loss: 0.4010 - accuracy: 0.8151 - val_loss: 0.4243 - val_accuracy: 0.7809\n",
      "Epoch 25/25\n",
      "250/250 [==============================] - 190s 760ms/step - loss: 0.3996 - accuracy: 0.8126 - val_loss: 0.5865 - val_accuracy: 0.7680\n"
     ]
    },
    {
     "data": {
      "text/plain": [
       "<keras.callbacks.callbacks.History at 0x27a01763ec8>"
      ]
     },
     "execution_count": 47,
     "metadata": {},
     "output_type": "execute_result"
    }
   ],
   "source": [
    "classifier.fit_generator(training_set,samples_per_epoch = 8000,nb_epoch=25,validation_data=test_set,nb_val_samples=2000) "
   ]
  },
  {
   "cell_type": "code",
   "execution_count": 49,
   "metadata": {},
   "outputs": [],
   "source": [
    "#from keras.preprocessing import image"
   ]
  },
  {
   "cell_type": "code",
   "execution_count": 52,
   "metadata": {},
   "outputs": [],
   "source": [
    "#test_img = image.load_img(r'D:\\Data set\\P16-Convolutional-Neural-Networks\\Convolutional_Neural_Networks\\dataset\\single_prediction\\cat_or_dog_1.jpg',target_size=(64,64))"
   ]
  },
  {
   "cell_type": "code",
   "execution_count": 55,
   "metadata": {},
   "outputs": [
    {
     "data": {
      "image/png": "[encoded data removed]",
      "text/plain": [
       "<PIL.Image.Image image mode=RGB size=64x64 at 0x27A0145CC48>"
      ]
     },
     "execution_count": 55,
     "metadata": {},
     "output_type": "execute_result"
    }
   ],
   "source": [
    "#test_img"
   ]
  },
  {
   "cell_type": "code",
   "execution_count": 56,
   "metadata": {},
   "outputs": [],
   "source": [
    "#test_img = image.img_to_array(test_img)"
   ]
  },
  {
   "cell_type": "code",
   "execution_count": 58,
   "metadata": {},
   "outputs": [
    {
     "data": {
      "text/plain": [
       "array([[1.]], dtype=float32)"
      ]
     },
     "execution_count": 58,
     "metadata": {},
     "output_type": "execute_result"
    }
   ],
   "source": [
    "#test_img = np.expand_dims(test_img,axis=0)\n",
    "#classifier.predict(test_img)"
   ]
  },
  {
   "cell_type": "code",
   "execution_count": 59,
   "metadata": {},
   "outputs": [
    {
     "data": {
      "text/plain": [
       "array([[1.]], dtype=float32)"
      ]
     },
     "execution_count": 59,
     "metadata": {},
     "output_type": "execute_result"
    }
   ],
   "source": [
    "#result = classifier.predict(test_img)\n",
    "#result"
   ]
  },
  {
   "cell_type": "code",
   "execution_count": 60,
   "metadata": {},
   "outputs": [
    {
     "data": {
      "text/plain": [
       "{'cats': 0, 'dogs': 1}"
      ]
     },
     "execution_count": 60,
     "metadata": {},
     "output_type": "execute_result"
    }
   ],
   "source": [
    "#training_set.class_indices"
   ]
  },
  {
   "cell_type": "code",
   "execution_count": null,
   "metadata": {},
   "outputs": [],
   "source": []
  }
 ],
 "metadata": {
  "kernelspec": {
   "display_name": "Python 3",
   "language": "python",
   "name": "python3"
  },
  "language_info": {
   "codemirror_mode": {
    "name": "ipython",
    "version": 3
   },
   "file_extension": ".py",
   "mimetype": "text/x-python",
   "name": "python",
   "nbconvert_exporter": "python",
   "pygments_lexer": "ipython3",
   "version": "3.7.4"
  }
 },
 "nbformat": 4,
 "nbformat_minor": 2
}
