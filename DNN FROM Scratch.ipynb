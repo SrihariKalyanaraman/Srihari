{
 "cells": [
  {
   "cell_type": "markdown",
   "metadata": {},
   "source": [
    "# DEEP NEURAL NETWORKS FROM SCRATCH \n",
    "\n",
    "#IMPORTING NECESSARY LIBRARIES"
   ]
  },
  {
   "cell_type": "markdown",
   "metadata": {},
   "source": [
    "NUMPY IS USED FOR ALL MATHAMETICAL OPERATIONS "
   ]
  },
  {
   "cell_type": "markdown",
   "metadata": {},
   "source": [
    "MATPLOTLIB IS USED FOR VISUALIZATION"
   ]
  },
  {
   "cell_type": "code",
   "execution_count": null,
   "metadata": {},
   "outputs": [],
   "source": [
    "import numpy as np\n",
    "import matplotlib.pyplot as plt"
   ]
  },
  {
   "cell_type": "markdown",
   "metadata": {},
   "source": [
    "THE NUMBER OF LAYERS AND ACTIVATIONS USED IN THOSE LAYERS ARE DESCRIBED IN A LIST CONTAINING KEY VALUE PAIRS."
   ]
  },
  {
   "cell_type": "code",
   "execution_count": 1517,
   "metadata": {},
   "outputs": [],
   "source": [
    "nn_architecture = [\n",
    "    {\"layer_size\": 3, \"activation\": \"none\"}, # input layer\n",
    "    {\"layer_size\": 6, \"activation\": \"relu\"},\n",
    "    {\"layer_size\": 5, \"activation\": \"relu\"},\n",
    "    {\"layer_size\": 1, \"activation\": \"linear\"}\n",
    "]"
   ]
  },
  {
   "cell_type": "markdown",
   "metadata": {},
   "source": [
    "THE INITIALIZATION FOR A DEEP L-LAYERED NEURAL NETWORK IS EXECUTED AND IT CONTAINS WEIGHT MATRICES AND BIAS VECTORS.\n",
    "\n",
    "WEIGHT MATRICES ARE INITIALIZED FOR ALL LAYERS BY CONSIDERING THE NUMBER OF NEURONS IN THE PREVIOUS AND CURRENT LAYER.\n",
    "BIAS VECTORS ARE INITIALIZED BY CONSIDERING ONLY THE NUMBER OF NEURONS IN THE CURRENT LAYER.\n",
    "THE BIAS VECTORS ARE INITIALIZED TO ZEROES.\n"
   ]
  },
  {
   "cell_type": "code",
   "execution_count": 1468,
   "metadata": {},
   "outputs": [],
   "source": [
    "def initialize_parameters(nn_architecture, seed = 60):\n",
    "    np.random.seed(seed)\n",
    "    # python dictionary containing our parameters \"W1\", \"b1\", ..., \"WL\", \"bL\"\n",
    "    parameters = {}\n",
    "    number_of_layers = len(nn_architecture)\n",
    "\n",
    "    for l in range(1, number_of_layers):\n",
    "        parameters['W' + str(l)] = np.random.randn(nn_architecture[l][\"layer_size\"],nn_architecture[l-1][\"layer_size\"])*0.1\n",
    "        parameters['b' + str(l)] = np.zeros((nn_architecture[l][\"layer_size\"], 1))\n",
    "        \n",
    "    return parameters\n",
    "    "
   ]
  },
  {
   "cell_type": "markdown",
   "metadata": {},
   "source": [
    "# Weight matrix and Bias vectors for each layer "
   ]
  },
  {
   "cell_type": "code",
   "execution_count": 1371,
   "metadata": {},
   "outputs": [
    {
     "data": {
      "text/plain": [
       "{'W1': array([[-9.21770993e-02, -5.86317634e-02,  1.16399914e-01],\n",
       "        [-1.24172396e-01, -1.98523022e-01,  1.30670891e-01],\n",
       "        [ 7.37807059e-02,  3.79111282e-02,  9.89200864e-05],\n",
       "        [-1.10503482e-01, -9.43307177e-02, -7.20370427e-02],\n",
       "        [ 2.28128940e-01,  3.49672691e-03, -6.74568670e-02],\n",
       "        [ 2.18137822e-02,  1.16688402e-01,  2.80148303e-02]]),\n",
       " 'b1': array([[0.],\n",
       "        [0.],\n",
       "        [0.],\n",
       "        [0.],\n",
       "        [0.],\n",
       "        [0.]]),\n",
       " 'W2': array([[ 0.05608528,  0.00576144,  0.02650429, -0.22109676, -0.00286614,\n",
       "         -0.02634928],\n",
       "        [ 0.13120904,  0.09433981,  0.0839761 , -0.07795373,  0.00382895,\n",
       "          0.05139817],\n",
       "        [-0.00042382, -0.28132426, -0.07387946,  0.1119412 ,  0.03860523,\n",
       "         -0.10970752],\n",
       "        [ 0.12080457,  0.05912429,  0.00603911,  0.05287602,  0.1974946 ,\n",
       "         -0.03043879],\n",
       "        [ 0.11188679,  0.09321451,  0.08282396,  0.00262975, -0.09972103,\n",
       "         -0.21314479]]),\n",
       " 'b2': array([[0.],\n",
       "        [0.],\n",
       "        [0.],\n",
       "        [0.],\n",
       "        [0.]]),\n",
       " 'W3': array([[-0.16618058, -0.03665379,  0.00292162,  0.07814044,  0.09812738]]),\n",
       " 'b3': array([[0.]])}"
      ]
     },
     "execution_count": 1371,
     "metadata": {},
     "output_type": "execute_result"
    }
   ],
   "source": [
    "initialize_parameters(nn_architecture)"
   ]
  },
  {
   "cell_type": "markdown",
   "metadata": {},
   "source": [
    "# ACTIVATION FUNCTIONS AND THEIR DERIVATIVES\n",
    "\n",
    "ACTIVATION FUNCTIONS GIVE THE NETWORK NON-LINEARITY.\n",
    "\n",
    "ACTIVATION FUNCTIONS ARE USED IN FEED FORWARD AND THEIR CORRESPONDING DERIVATIVES ARE USED IN BACK PROPAGATION."
   ]
  },
  {
   "cell_type": "code",
   "execution_count": 1519,
   "metadata": {},
   "outputs": [],
   "source": [
    "def sigmoid(Z):\n",
    "    S = 1/ (1+ np.exp(-Z))\n",
    "    return S\n",
    "def relu(Z):\n",
    "    R = np.maximum(0,Z)\n",
    "    return R\n",
    "def tanh(Z):\n",
    "    T = (np.exp(Z) - np.exp(-Z))/(np.exp(Z) + np.exp(-Z))\n",
    "    return T\n",
    "def linear(Z):\n",
    "    return Z\n",
    "\n",
    "\n",
    "def sigmoid_backward(dA, Z):\n",
    "    S = sigmoid(Z)\n",
    "    dS = S * (1 - S)\n",
    "    return dA * dS\n",
    "\n",
    "def relu_backward(dA, Z):\n",
    "    dZ = np.array(dA, copy = True)\n",
    "    dZ[Z <= 0] = 0\n",
    "    return dZ\n",
    "\n",
    "def tanh_backward(dA,Z):\n",
    "    dT = 1 - (tanh(Z))**2\n",
    "    return dA*dT\n",
    "\n",
    "def lin_backward(dA,Z):\n",
    "    return dA\n",
    "    "
   ]
  },
  {
   "cell_type": "markdown",
   "metadata": {},
   "source": [
    "# FEED FORWARD MODEL\n",
    "\n",
    "During feed forward propagation, in the forward function for a layer L we need to know what the activation function in a layer is (Sigmoid, tanh, ReLU, etc.).\n",
    "Given input signal from the previous layer, we compute Z and then apply selected activation function.\n",
    "\n",
    "Z for each neuron is calculated by Multiplying the weight matrix with their previous layer's output and adding the bias vector to it.\n",
    "\n",
    "Z = W.T*X + B\n",
    "\n",
    "where W.T is weight matrix transpose\n",
    "X is the input and B is the bias vector\n",
    "\n",
    "For the first layer we take input vector and multiply it with the weight matrix and then add it with the bias vector.\n",
    "\n",
    "A for each neuron is found by applying the corresponding layers's signal function to Z.\n",
    "\n",
    "for eample A = relu(Z."
   ]
  },
  {
   "cell_type": "code",
   "execution_count": 3,
   "metadata": {},
   "outputs": [],
   "source": [
    "def L_model_forward(X, parameters, nn_architecture):\n",
    "    forward_cache = {}\n",
    "    A = X\n",
    "    number_of_layers = len(nn_architecture)\n",
    "    A = np.array([A]).T\n",
    "    for l in range(1, number_of_layers):\n",
    "        A_prev = A \n",
    "        W = parameters['W' + str(l)]\n",
    "        b = parameters['b' + str(l)]\n",
    "        activation = nn_architecture[l][\"activation\"]\n",
    "        Z, A = linear_activation_forward(A_prev, W, b, activation)\n",
    "        forward_cache['Z' + str(l)] = Z\n",
    "        forward_cache['A' + str(l)] = A\n",
    "        \n",
    "    AL2 = A\n",
    "           \n",
    "    return AL2, forward_cache\n",
    "\n",
    "def linear_activation_forward(A_prev, W, b, activation):\n",
    "    if activation == \"sigmoid\":\n",
    "        Z = linear_forward(A_prev, W, b)\n",
    "        A = sigmoid(Z)\n",
    "    elif activation == \"relu\":\n",
    "        Z = linear_forward(A_prev, W, b)\n",
    "        A = relu(Z)\n",
    "    elif activation == \"tanh\":\n",
    "        Z = linear_forward(A_prev, W, b)\n",
    "        A = tanh(Z)\n",
    "    elif activation == \"linear\":\n",
    "        Z = linear_forward(A_prev, W, b)\n",
    "        A = linear(Z)\n",
    "    elif activation == \"softmax\":\n",
    "        Z = linear_forward(A_prev, W, b)\n",
    "        A = softmax(Z)\n",
    "\n",
    "    return Z, A\n",
    "\n",
    "def linear_forward(A, W, b):\n",
    "    Z = np.dot(W,A) + b\n",
    "    return Z"
   ]
  },
  {
   "cell_type": "markdown",
   "metadata": {},
   "source": [
    "# Cost Function\n",
    "\n",
    "WE USE 2 TYPE OF COST FUNCTIONS\n",
    "\n",
    "1. CROSSENTROPY FOR CLASSIFICATION\n",
    "       \n",
    "2. MEAN SQUARED ERROR FOR REGRESSION"
   ]
  },
  {
   "cell_type": "code",
   "execution_count": 1470,
   "metadata": {},
   "outputs": [],
   "source": [
    "def compute_cost(AL, Y ,loss_fn):\n",
    "    \n",
    "    # Compute loss from AL and y\n",
    "    if loss_fn == \"cross_entropy\":\n",
    "        # cross-entropy cost\n",
    "        logprobs = np.multiply(np.log(AL),Y) + np.multiply(1 - Y, np.log(1 - AL))\n",
    "        cost = -1*logprobs #/ m\n",
    "    elif loss_fn == \"mse\":\n",
    "        cost = ([Y] - AL)**2 \n",
    "    #cost = np.squeeze(cost)\n",
    "\n",
    "    return cost"
   ]
  },
  {
   "cell_type": "markdown",
   "metadata": {},
   "source": [
    "# Backward Propagation \n",
    "\n",
    "Backpropagation is used to calculate the gradient of the loss function with respect to the parameters. This algorithm is the recursive use of a “chain rule” known from differential calculus.\n",
    "\n",
    "The first step in backpropagation for our neural network model is to calculate the derivative of our loss function with respect to Z from the last layer. \n",
    "\n",
    "The derivative of the loss function with respect to the activation function from the last layer.\n",
    "\n",
    "The derivative of the loss function with respect to Z from lᵗʰ layer helps to calculate the derivative of the loss function with respect to A from (l-1)ᵗʰ layer (the previous layer). \n",
    "\n",
    "Then the result is used with the derivative of the activation function."
   ]
  },
  {
   "cell_type": "code",
   "execution_count": 1516,
   "metadata": {},
   "outputs": [],
   "source": [
    "def L_model_backward(AL, Y, parameters, forward_cache, nn_architecture,X,loss_fn):\n",
    "    grads = {}\n",
    "    number_of_layers = len(nn_architecture)\n",
    "    # Initializing the backpropagation\n",
    "    \n",
    "    if loss_fn == \"mse\":\n",
    "        dAL = 2 *([Y] - AL)*-1 \n",
    "    elif loss_fn == \"cross_entropy\":\n",
    "        dAL =  - (np.divide(Y, AL) - np.divide(1 - Y, 1 - AL))\n",
    "    \n",
    "    dA_prev = dAL\n",
    "    for l in reversed(range(1, number_of_layers)):\n",
    "        dA_curr = dA_prev\n",
    "        activation = nn_architecture[l][\"activation\"]\n",
    "        W_curr = parameters['W' + str(l)]\n",
    "        Z_curr = forward_cache['Z' + str(l)]\n",
    "        if l != 1:\n",
    "            A_prev = forward_cache['A' + str(l-1)] \n",
    "        else:\n",
    "            A_prev = np.array([X]).T\n",
    "    \n",
    "        dA_prev, dW_curr, db_curr = linear_activation_backward(dA_curr, Z_curr, A_prev, W_curr, activation)\n",
    "\n",
    "        \n",
    "        grads[\"dW\" + str(l)] = dW_curr\n",
    "        grads[\"db\" + str(l)] = db_curr\n",
    "        \n",
    "    return grads\n",
    "\n",
    "def linear_activation_backward(dA, Z, A_prev, W, activation):\n",
    "    if activation == \"relu\":\n",
    "        dZ = relu_backward(dA, Z)\n",
    "        dA_prev, dW, db = linear_backward(dZ, A_prev, W)\n",
    "    elif activation == \"sigmoid\":\n",
    "        dZ = sigmoid_backward(dA, Z)\n",
    "        dA_prev, dW, db = linear_backward(dZ, A_prev, W)\n",
    "    elif activation == \"tanh\":\n",
    "        dZ = tanh_backward(dA, Z)\n",
    "        dA_prev, dW, db = linear_backward(dZ, A_prev, W)\n",
    "    elif activation == \"linear\":\n",
    "        dZ = lin_backward(dA, Z)\n",
    "        dA_prev, dW, db = linear_backward(dZ, A_prev, W)\n",
    "    elif activation == \"softmax\":\n",
    "        dZ = softmax_backward(dA, Z)\n",
    "        dA_prev, dW, db = linear_backward(dZ, A_prev, W)\n",
    "\n",
    "    return dA_prev, dW, db\n",
    "\n",
    "def linear_backward(dZ, A_prev, W):\n",
    "    \n",
    "    dW = np.dot(dZ,A_prev.T) # /m\n",
    "    db = np.sum(dZ, axis=1, keepdims=True) # /m\n",
    "    dA_prev = np.dot(W.T, dZ)\n",
    "\n",
    "    return dA_prev, dW, db\n"
   ]
  },
  {
   "cell_type": "markdown",
   "metadata": {},
   "source": [
    "# Weight Updation\n",
    "\n",
    "The goal of the function is to update the parameters of the model using gradient optimization.\n",
    "The weights and biases are updated after each iteration by Stochastic Gradient Descent Method\n"
   ]
  },
  {
   "cell_type": "code",
   "execution_count": 1485,
   "metadata": {},
   "outputs": [],
   "source": [
    "def update_parameters(parameters, grads, learning_rate):\n",
    "    lr = learning_rate\n",
    "    L = len(parameters) // 2 # number of layers in the neural network\n",
    "    \n",
    "    for l in range(1, L):\n",
    "        parameters[\"W\" + str(l)] = parameters[\"W\" + str(l)] - lr * grads[\"dW\" + str(l)]\n",
    "        parameters[\"b\" + str(l)] = parameters[\"b\" + str(l)] - lr * grads[\"db\" + str(l)]\n",
    "    \n",
    "    return parameters"
   ]
  },
  {
   "cell_type": "markdown",
   "metadata": {},
   "source": [
    "# Full Model\n",
    "\n",
    "The full implementation of the neural network model consists of the methods provided below.\n",
    "\n",
    "Hyperparameters\n",
    "1. ARCHITECTURE - Number of layers and their activations\n",
    "2. LEARNING RATE\n",
    "3. NUMBER OF ITERATIONS\n",
    "4. LOSS FUNCTION\n",
    "\n",
    "The model attains good accuracy and low cost by tweaking these hyperparameters.\n",
    "\n",
    "We use only Stochastic Gradient Descent(SGD) as our optimizer."
   ]
  },
  {
   "cell_type": "code",
   "execution_count": 1486,
   "metadata": {},
   "outputs": [],
   "source": [
    "def L_layer_model(X, Y, nn_architecture, loss_fn = \"mse\", learning_rate = 1.5 , num_iterations = 200, print_cost=True):\n",
    "    np.random.seed(56) \n",
    "    \n",
    "    costs = []\n",
    "    # Parameters initialization.\n",
    "    parameters = initialize_parameters(nn_architecture)\n",
    "    \n",
    "    for i in range(0, num_iterations):\n",
    "        \n",
    "            for j in range(0,len(X)):\n",
    "                X[j] = np.array(X[j])\n",
    "                # Forward propagation: [LINEAR -> RELU]*(L-1) -> LINEAR -> SIGMOID.\n",
    "                AL1, forward_cache =  L_model_forward(X[j], parameters, nn_architecture)\n",
    "                #print(AL1 , Y[j])   \n",
    "                cost = compute_cost(AL1, Y[j],loss_fn)\n",
    "                #    cost1.append(cose)\n",
    "                # Backward propagation.\n",
    "            \n",
    "                grads = L_model_backward(AL1, Y[j], parameters, forward_cache, nn_architecture,X[j],loss_fn)\n",
    "            \n",
    "                # Update parameters.\n",
    "                parameters = update_parameters(parameters, grads, learning_rate)\n",
    "                  \n",
    "            # Print the cost every 100 training example\n",
    "            if print_cost and i % 10 == 0:\n",
    "                print(\"Cost after iteration %i: %f\" %(i, cost))\n",
    "\n",
    "            costs.append(cost)\n",
    "            \n",
    "    # plot the cost\n",
    "    plt.plot(np.squeeze(costs))\n",
    "    plt.ylabel('cost')\n",
    "    plt.xlabel('iterations (per tens)')\n",
    "    plt.title(\"Learning rate =\" + str(learning_rate))\n",
    "    plt.show()\n",
    "    \n",
    "    \n",
    "    print(costs)\n",
    "    return parameters"
   ]
  },
  {
   "cell_type": "markdown",
   "metadata": {},
   "source": [
    "# VISUALIZATION"
   ]
  },
  {
   "cell_type": "code",
   "execution_count": 1480,
   "metadata": {},
   "outputs": [
    {
     "name": "stdout",
     "output_type": "stream",
     "text": [
      "Cost after iteration 0: 0.119615\n",
      "Cost after iteration 10: 0.227601\n",
      "Cost after iteration 20: 0.169953\n",
      "Cost after iteration 30: 0.135932\n",
      "Cost after iteration 40: 0.116986\n",
      "Cost after iteration 50: 0.105601\n",
      "Cost after iteration 60: 0.097098\n",
      "Cost after iteration 70: 0.097106\n",
      "Cost after iteration 80: 0.097098\n",
      "Cost after iteration 90: 0.099540\n",
      "Cost after iteration 100: 0.097101\n",
      "Cost after iteration 110: 0.097098\n",
      "Cost after iteration 120: 0.097101\n",
      "Cost after iteration 130: 0.097098\n",
      "Cost after iteration 140: 0.097098\n",
      "Cost after iteration 150: 0.097098\n",
      "Cost after iteration 160: 0.097098\n",
      "Cost after iteration 170: 0.099756\n",
      "Cost after iteration 180: 0.097098\n",
      "Cost after iteration 190: 0.097098\n"
     ]
    },
    {
     "data": {
      "image/png": "[encoded data removed]",
      "text/plain": [
       "<Figure size 432x288 with 1 Axes>"
      ]
     },
     "metadata": {
      "needs_background": "light"
     },
     "output_type": "display_data"
    },
    {
     "name": "stdout",
     "output_type": "stream",
     "text": [
      "[array([[0.11961536]]), array([[0.13691605]]), array([[0.1538153]]), array([[0.17036677]]), array([[0.18597727]]), array([[0.19987417]]), array([[0.21129748]]), array([[0.21976976]]), array([[0.22518286]]), array([[0.2276988]]), array([[0.22760083]]), array([[0.22520064]]), array([[0.22082342]]), array([[0.21729171]]), array([[0.21101472]]), array([[0.2000889]]), array([[0.18749086]]), array([[0.17876381]]), array([[0.18539011]]), array([[0.17333753]]), array([[0.16995331]]), array([[0.16817519]]), array([[0.16385809]]), array([[0.16141971]]), array([[0.15587561]]), array([[0.15158834]]), array([[0.14759246]]), array([[0.14479903]]), array([[0.14292367]]), array([[0.13915785]]), array([[0.13593175]]), array([[0.13291966]]), array([[0.13010392]]), array([[0.13067264]]), array([[0.12694872]]), array([[0.12444662]]), array([[0.12212511]]), array([[0.11995203]]), array([[0.11890859]]), array([[0.11842826]]), array([[0.11698564]]), array([[0.11537564]]), array([[0.11370999]]), array([[0.11208724]]), array([[0.11055972]]), array([[0.10911129]]), array([[0.10903964]]), array([[0.10889924]]), array([[0.10773532]]), array([[0.10672948]]), array([[0.1056008]]), array([[0.1044712]]), array([[0.1034418]]), array([[0.10242912]]), array([[0.1023387]]), array([[0.10231465]]), array([[0.10193691]]), array([[0.10129571]]), array([[0.10043845]]), array([[0.09964144]]), array([[0.09709769]]), array([[0.09709769]]), array([[0.09710141]]), array([[0.09957199]]), array([[0.09709769]]), array([[0.09709789]]), array([[0.09725113]]), array([[0.09709769]]), array([[0.09709769]]), array([[0.09736651]]), array([[0.0971057]]), array([[0.09710474]]), array([[0.09710366]]), array([[0.09710249]]), array([[0.09710137]]), array([[0.09709769]]), array([[0.09709769]]), array([[0.09709769]]), array([[0.09710117]]), array([[0.09709769]]), array([[0.09709769]]), array([[0.09709769]]), array([[0.09709769]]), array([[0.09710122]]), array([[0.09709769]]), array([[0.09943449]]), array([[0.09709769]]), array([[0.09710107]]), array([[0.09709769]]), array([[0.09709769]]), array([[0.09953973]]), array([[0.09709769]]), array([[0.09710133]]), array([[0.09709769]]), array([[0.0994025]]), array([[0.09709769]]), array([[0.09710123]]), array([[0.09709769]]), array([[0.09709769]]), array([[0.09956956]]), array([[0.09710116]]), array([[0.09709769]]), array([[0.09709769]]), array([[0.09951217]]), array([[0.09710134]]), array([[0.09709769]]), array([[0.09709769]]), array([[0.09946053]]), array([[0.09710106]]), array([[0.09709769]]), array([[0.09709769]]), array([[0.09939609]]), array([[0.09710112]]), array([[0.09709769]]), array([[0.09709769]]), array([[0.09942344]]), array([[0.09710122]]), array([[0.09709769]]), array([[0.09709769]]), array([[0.09945133]]), array([[0.09710137]]), array([[0.09709769]]), array([[0.09709769]]), array([[0.09953698]]), array([[0.09709769]]), array([[0.09709769]]), array([[0.09709769]]), array([[0.09958095]]), array([[0.09709769]]), array([[0.09709769]]), array([[0.09709769]]), array([[0.09968554]]), array([[0.09709769]]), array([[0.09709769]]), array([[0.09949854]]), array([[0.09709769]]), array([[0.09709769]]), array([[0.09709769]]), array([[0.09965352]]), array([[0.09709769]]), array([[0.09709769]]), array([[0.09954968]]), array([[0.09709769]]), array([[0.09709769]]), array([[0.09709769]]), array([[0.0997483]]), array([[0.09709769]]), array([[0.09709769]]), array([[0.09969583]]), array([[0.09709769]]), array([[0.09709769]]), array([[0.0995905]]), array([[0.09709769]]), array([[0.09709769]]), array([[0.09945316]]), array([[0.09710161]]), array([[0.09709769]]), array([[0.09944409]]), array([[0.09709769]]), array([[0.09709769]]), array([[0.09709769]]), array([[0.09985693]]), array([[0.09709769]]), array([[0.09709769]]), array([[0.09979952]]), array([[0.09709769]]), array([[0.09709769]]), array([[0.09971297]]), array([[0.09709769]]), array([[0.09709769]]), array([[0.09975588]]), array([[0.09709769]]), array([[0.09709769]]), array([[0.09984117]]), array([[0.09709769]]), array([[0.09949656]]), array([[0.09709769]]), array([[0.09709769]]), array([[0.09962181]]), array([[0.09709769]]), array([[0.09709769]]), array([[0.09962211]]), array([[0.09709769]]), array([[0.09709769]]), array([[0.09980861]]), array([[0.09709769]]), array([[0.09709783]]), array([[0.09709769]]), array([[0.09709769]]), array([[0.09709769]]), array([[0.09709769]]), array([[0.09709769]]), array([[0.09709769]]), array([[0.09709769]]), array([[0.09709769]]), array([[0.09978945]]), array([[0.09709769]]), array([[0.09720026]]), array([[0.09709769]]), array([[0.09709769]])]\n"
     ]
    },
    {
     "data": {
      "text/plain": [
       "{'W1': array([[-0.10211727, -0.07012627,  0.09372604],\n",
       "        [-0.1312673 , -0.20088799,  0.11648108],\n",
       "        [ 0.05919873,  0.53893026, -0.39022494],\n",
       "        [-0.11050348, -0.09433072, -0.07203704],\n",
       "        [ 0.4250404 ,  2.92498982, -2.22030831],\n",
       "        [ 0.09327013,  0.69178722, -0.47820004]]), 'b1': array([[-0.02850581],\n",
       "        [-0.01606655],\n",
       "        [ 0.0407343 ],\n",
       "        [ 0.        ],\n",
       "        [ 0.3508596 ],\n",
       "        [ 0.04331957]]), 'W2': array([[ 5.50018495e-02,  5.12616437e-03,  2.57839555e-02,\n",
       "         -2.21096759e-01, -4.80359556e-03, -2.71940982e-02],\n",
       "        [ 1.31209035e-01,  9.43398144e-02,  3.30720555e-01,\n",
       "         -7.79537303e-02,  1.11992915e+00,  3.56451654e-01],\n",
       "        [-4.23819862e-04, -2.81324264e-01, -7.37382290e-02,\n",
       "          1.11941195e-01,  3.40282165e-02, -1.09917184e-01],\n",
       "        [ 1.16411216e-01,  5.49577082e-02,  3.95114317e-01,\n",
       "          5.28760214e-02,  2.21957752e+00,  4.96133872e-01],\n",
       "        [ 1.11886785e-01,  9.29822111e-02,  8.28239570e-02,\n",
       "          2.62975266e-03, -9.97210305e-02, -2.13144788e-01]]), 'b2': array([[-0.02026318],\n",
       "        [-1.88440055],\n",
       "        [-0.00734212],\n",
       "        [-0.05074863],\n",
       "        [-0.01672455]]), 'W3': array([[-0.16618058, -0.03665379,  0.00292162,  0.07814044,  0.09812738]]), 'b3': array([[0.]])}"
      ]
     },
     "execution_count": 1480,
     "metadata": {},
     "output_type": "execute_result"
    }
   ],
   "source": [
    "L_layer_model(X_M,Y_M,nn_architecture)"
   ]
  },
  {
   "cell_type": "code",
   "execution_count": 1498,
   "metadata": {},
   "outputs": [],
   "source": [
    "X1 = [0,0,0,0,1,1,1,1]\n",
    "X2 = [0,0,1,1,0,0,1,1]\n",
    "X3 = [0,1,0,1,0,1,0,1]\n",
    "Y1 = [1,1,1,1,1,1,1,0]\n",
    "Y2 = [0,0,0,0,0,0,0,1]\n",
    "df = pd.DataFrame({\"A\": X1, \"B\": X2 , \"C\": X3,\"Y1\":Y1, \"Y2\":Y2})\n",
    "X = df.iloc[:,0:3]\n",
    "Y = df.iloc[:,3:5]"
   ]
  },
  {
   "cell_type": "markdown",
   "metadata": {},
   "source": [
    "# TESTING THE MODEL EFFECIENCY BY USING DIFFERENT MATHEMATICAL FUNCTIONS"
   ]
  },
  {
   "cell_type": "code",
   "execution_count": 1497,
   "metadata": {},
   "outputs": [
    {
     "data": {
      "text/html": [
       "<div>\n",
       "<style scoped>\n",
       "    .dataframe tbody tr th:only-of-type {\n",
       "        vertical-align: middle;\n",
       "    }\n",
       "\n",
       "    .dataframe tbody tr th {\n",
       "        vertical-align: top;\n",
       "    }\n",
       "\n",
       "    .dataframe thead th {\n",
       "        text-align: right;\n",
       "    }\n",
       "</style>\n",
       "<table border=\"1\" class=\"dataframe\">\n",
       "  <thead>\n",
       "    <tr style=\"text-align: right;\">\n",
       "      <th></th>\n",
       "      <th>A</th>\n",
       "      <th>B</th>\n",
       "      <th>C</th>\n",
       "      <th>Y</th>\n",
       "    </tr>\n",
       "  </thead>\n",
       "  <tbody>\n",
       "    <tr>\n",
       "      <th>0</th>\n",
       "      <td>0</td>\n",
       "      <td>0</td>\n",
       "      <td>0</td>\n",
       "      <td>1.000000</td>\n",
       "    </tr>\n",
       "    <tr>\n",
       "      <th>1</th>\n",
       "      <td>0</td>\n",
       "      <td>0</td>\n",
       "      <td>1</td>\n",
       "      <td>2.557408</td>\n",
       "    </tr>\n",
       "    <tr>\n",
       "      <th>2</th>\n",
       "      <td>0</td>\n",
       "      <td>1</td>\n",
       "      <td>0</td>\n",
       "      <td>0.540302</td>\n",
       "    </tr>\n",
       "    <tr>\n",
       "      <th>3</th>\n",
       "      <td>0</td>\n",
       "      <td>1</td>\n",
       "      <td>1</td>\n",
       "      <td>2.097710</td>\n",
       "    </tr>\n",
       "    <tr>\n",
       "      <th>4</th>\n",
       "      <td>1</td>\n",
       "      <td>0</td>\n",
       "      <td>0</td>\n",
       "      <td>1.841471</td>\n",
       "    </tr>\n",
       "    <tr>\n",
       "      <th>5</th>\n",
       "      <td>1</td>\n",
       "      <td>0</td>\n",
       "      <td>1</td>\n",
       "      <td>3.398879</td>\n",
       "    </tr>\n",
       "    <tr>\n",
       "      <th>6</th>\n",
       "      <td>1</td>\n",
       "      <td>1</td>\n",
       "      <td>0</td>\n",
       "      <td>1.381773</td>\n",
       "    </tr>\n",
       "    <tr>\n",
       "      <th>7</th>\n",
       "      <td>1</td>\n",
       "      <td>1</td>\n",
       "      <td>1</td>\n",
       "      <td>2.939181</td>\n",
       "    </tr>\n",
       "  </tbody>\n",
       "</table>\n",
       "</div>"
      ],
      "text/plain": [
       "   A  B  C         Y\n",
       "0  0  0  0  1.000000\n",
       "1  0  0  1  2.557408\n",
       "2  0  1  0  0.540302\n",
       "3  0  1  1  2.097710\n",
       "4  1  0  0  1.841471\n",
       "5  1  0  1  3.398879\n",
       "6  1  1  0  1.381773\n",
       "7  1  1  1  2.939181"
      ]
     },
     "execution_count": 1497,
     "metadata": {},
     "output_type": "execute_result"
    }
   ],
   "source": [
    "df = pd.DataFrame({\"A\": X1, \"B\": X2 , \"C\": X3})\n",
    "df['Y']=np.sin(df['A'].values)+ np.cos(df['B'].values)+np.tan(df['C'].values)\n",
    "df"
   ]
  },
  {
   "cell_type": "code",
   "execution_count": null,
   "metadata": {},
   "outputs": [],
   "source": []
  },
  {
   "cell_type": "code",
   "execution_count": 1451,
   "metadata": {},
   "outputs": [],
   "source": [
    "\n",
    "from sklearn.preprocessing import StandardScaler,Normalizer\n",
    "no = Normalizer()\n",
    "sc = StandardScaler()\n",
    "df = no.fit_transform(df)\n",
    "df1 = pd.DataFrame(df)\n",
    "X = df1.iloc[:,0:3]\n",
    "Y = df1.iloc[:,3:4]"
   ]
  },
  {
   "cell_type": "markdown",
   "metadata": {},
   "source": [
    "# TRYING FOR DIFFERENT DATASETS"
   ]
  },
  {
   "cell_type": "code",
   "execution_count": 1499,
   "metadata": {},
   "outputs": [],
   "source": [
    "X_M = np.array(X)\n",
    "Y_M = np.array(Y)\n"
   ]
  },
  {
   "cell_type": "code",
   "execution_count": 1500,
   "metadata": {},
   "outputs": [
    {
     "data": {
      "text/plain": [
       "((8, 3), (8, 2))"
      ]
     },
     "execution_count": 1500,
     "metadata": {},
     "output_type": "execute_result"
    }
   ],
   "source": [
    "X_M.shape,Y_M.shape"
   ]
  },
  {
   "cell_type": "code",
   "execution_count": 1501,
   "metadata": {},
   "outputs": [
    {
     "data": {
      "text/plain": [
       "(array([[0, 0, 0],\n",
       "        [0, 0, 1],\n",
       "        [0, 1, 0],\n",
       "        [0, 1, 1],\n",
       "        [1, 0, 0],\n",
       "        [1, 0, 1],\n",
       "        [1, 1, 0],\n",
       "        [1, 1, 1]], dtype=int64), array([[1, 0],\n",
       "        [1, 0],\n",
       "        [1, 0],\n",
       "        [1, 0],\n",
       "        [1, 0],\n",
       "        [1, 0],\n",
       "        [1, 0],\n",
       "        [0, 1]], dtype=int64))"
      ]
     },
     "execution_count": 1501,
     "metadata": {},
     "output_type": "execute_result"
    }
   ],
   "source": [
    "X_M , Y_M"
   ]
  },
  {
   "cell_type": "code",
   "execution_count": 1475,
   "metadata": {},
   "outputs": [
    {
     "name": "stdout",
     "output_type": "stream",
     "text": [
      "Cost after iteration 0: 0.119615\n",
      "Cost after iteration 10: 0.227601\n",
      "Cost after iteration 20: 0.169953\n",
      "Cost after iteration 30: 0.135932\n",
      "Cost after iteration 40: 0.116986\n",
      "Cost after iteration 50: 0.105601\n",
      "Cost after iteration 60: 0.097098\n",
      "Cost after iteration 70: 0.097106\n",
      "Cost after iteration 80: 0.097098\n",
      "Cost after iteration 90: 0.099540\n"
     ]
    },
    {
     "data": {
      "image/png": "[encoded data removed]",
      "text/plain": [
       "<Figure size 432x288 with 1 Axes>"
      ]
     },
     "metadata": {
      "needs_background": "light"
     },
     "output_type": "display_data"
    },
    {
     "name": "stdout",
     "output_type": "stream",
     "text": [
      "[array([[0.11961536]]), array([[0.13691605]]), array([[0.1538153]]), array([[0.17036677]]), array([[0.18597727]]), array([[0.19987417]]), array([[0.21129748]]), array([[0.21976976]]), array([[0.22518286]]), array([[0.2276988]]), array([[0.22760083]]), array([[0.22520064]]), array([[0.22082342]]), array([[0.21729171]]), array([[0.21101472]]), array([[0.2000889]]), array([[0.18749086]]), array([[0.17876381]]), array([[0.18539011]]), array([[0.17333753]]), array([[0.16995331]]), array([[0.16817519]]), array([[0.16385809]]), array([[0.16141971]]), array([[0.15587561]]), array([[0.15158834]]), array([[0.14759246]]), array([[0.14479903]]), array([[0.14292367]]), array([[0.13915785]]), array([[0.13593175]]), array([[0.13291966]]), array([[0.13010392]]), array([[0.13067264]]), array([[0.12694872]]), array([[0.12444662]]), array([[0.12212511]]), array([[0.11995203]]), array([[0.11890859]]), array([[0.11842826]]), array([[0.11698564]]), array([[0.11537564]]), array([[0.11370999]]), array([[0.11208724]]), array([[0.11055972]]), array([[0.10911129]]), array([[0.10903964]]), array([[0.10889924]]), array([[0.10773532]]), array([[0.10672948]]), array([[0.1056008]]), array([[0.1044712]]), array([[0.1034418]]), array([[0.10242912]]), array([[0.1023387]]), array([[0.10231465]]), array([[0.10193691]]), array([[0.10129571]]), array([[0.10043845]]), array([[0.09964144]]), array([[0.09709769]]), array([[0.09709769]]), array([[0.09710141]]), array([[0.09957199]]), array([[0.09709769]]), array([[0.09709789]]), array([[0.09725113]]), array([[0.09709769]]), array([[0.09709769]]), array([[0.09736651]]), array([[0.0971057]]), array([[0.09710474]]), array([[0.09710366]]), array([[0.09710249]]), array([[0.09710137]]), array([[0.09709769]]), array([[0.09709769]]), array([[0.09709769]]), array([[0.09710117]]), array([[0.09709769]]), array([[0.09709769]]), array([[0.09709769]]), array([[0.09709769]]), array([[0.09710122]]), array([[0.09709769]]), array([[0.09943449]]), array([[0.09709769]]), array([[0.09710107]]), array([[0.09709769]]), array([[0.09709769]]), array([[0.09953973]]), array([[0.09709769]]), array([[0.09710133]]), array([[0.09709769]]), array([[0.0994025]]), array([[0.09709769]]), array([[0.09710123]]), array([[0.09709769]]), array([[0.09709769]]), array([[0.09956956]])]\n"
     ]
    },
    {
     "data": {
      "text/plain": [
       "{'W1': array([[-0.10211727, -0.07012627,  0.09372604],\n",
       "        [-0.1312673 , -0.20088799,  0.11648108],\n",
       "        [ 0.05574233,  0.43205455, -0.36321294],\n",
       "        [-0.11050348, -0.09433072, -0.07203704],\n",
       "        [ 0.34323244,  2.43817091, -2.10051049],\n",
       "        [ 0.07138552,  0.56512901, -0.4543886 ]]), 'b1': array([[-0.02850581],\n",
       "        [-0.01606655],\n",
       "        [ 0.04593482],\n",
       "        [ 0.        ],\n",
       "        [ 0.52944356],\n",
       "        [ 0.04833503]]), 'W2': array([[ 5.50018495e-02,  5.12616437e-03,  2.57839555e-02,\n",
       "         -2.21096759e-01, -4.80359556e-03, -2.71940982e-02],\n",
       "        [ 1.31209035e-01,  9.43398144e-02,  1.74446443e-01,\n",
       "         -7.79537303e-02,  4.21145199e-01,  1.57298458e-01],\n",
       "        [-4.23819862e-04, -2.81324264e-01, -7.25379560e-02,\n",
       "          1.11941195e-01,  4.35294406e-02, -1.08101856e-01],\n",
       "        [ 1.16411216e-01,  5.49577082e-02,  3.88092247e-01,\n",
       "          5.28760214e-02,  2.25141586e+00,  4.95693770e-01],\n",
       "        [ 1.11886785e-01,  9.29822111e-02,  8.28239570e-02,\n",
       "          2.62975266e-03, -9.97210305e-02, -2.13144788e-01]]), 'b2': array([[-2.02631829e-02],\n",
       "        [-7.32483788e-01],\n",
       "        [-3.00937900e-04],\n",
       "        [-2.35291288e-02],\n",
       "        [-1.67245539e-02]]), 'W3': array([[-0.16618058, -0.03665379,  0.00292162,  0.07814044,  0.09812738]]), 'b3': array([[0.]])}"
      ]
     },
     "execution_count": 1475,
     "metadata": {},
     "output_type": "execute_result"
    }
   ],
   "source": [
    "L_layer_model(X_M,Y_M,nn_architecture)"
   ]
  },
  {
   "cell_type": "markdown",
   "metadata": {},
   "source": [
    "# COMPARING WITH THE INBUILT CODE USING TENSORFLOW"
   ]
  },
  {
   "cell_type": "code",
   "execution_count": 1434,
   "metadata": {},
   "outputs": [],
   "source": [
    "import tensorflow as tf\n",
    "from tensorflow.keras.models import Sequential\n",
    "from tensorflow.keras.layers import Dense\n",
    "from tensorflow.keras.optimizers import SGD"
   ]
  },
  {
   "cell_type": "code",
   "execution_count": 1445,
   "metadata": {},
   "outputs": [],
   "source": [
    "c = Sequential()\n",
    "c.add(Dense(units = 6,activation = \"relu\"))\n",
    "c.add(Dense(units = 5,activation = \"relu\"))\n",
    "c.add(Dense(units = 1,activation = \"linear\"))"
   ]
  },
  {
   "cell_type": "code",
   "execution_count": 1446,
   "metadata": {},
   "outputs": [
    {
     "name": "stdout",
     "output_type": "stream",
     "text": [
      "Train on 8 samples\n",
      "Epoch 1/20\n",
      "8/8 [==============================] - 1s 66ms/sample - loss: 1.4482\n",
      "Epoch 2/20\n",
      "8/8 [==============================] - 0s 499us/sample - loss: 1.3592\n",
      "Epoch 3/20\n",
      "8/8 [==============================] - 0s 624us/sample - loss: 0.5926\n",
      "Epoch 4/20\n",
      "8/8 [==============================] - 0s 499us/sample - loss: 0.2586\n",
      "Epoch 5/20\n",
      "8/8 [==============================] - 0s 249us/sample - loss: 0.1132\n",
      "Epoch 6/20\n",
      "8/8 [==============================] - 0s 748us/sample - loss: 0.0498\n",
      "Epoch 7/20\n",
      "8/8 [==============================] - 0s 385us/sample - loss: 0.0222\n",
      "Epoch 8/20\n",
      "8/8 [==============================] - 0s 440us/sample - loss: 0.0102\n",
      "Epoch 9/20\n",
      "8/8 [==============================] - 0s 374us/sample - loss: 0.0049\n",
      "Epoch 10/20\n",
      "8/8 [==============================] - 0s 374us/sample - loss: 0.0027\n",
      "Epoch 11/20\n",
      "8/8 [==============================] - 0s 374us/sample - loss: 0.0017\n",
      "Epoch 12/20\n",
      "8/8 [==============================] - 0s 873us/sample - loss: 0.0012\n",
      "Epoch 13/20\n",
      "8/8 [==============================] - 0s 365us/sample - loss: 0.0011\n",
      "Epoch 14/20\n",
      "8/8 [==============================] - 0s 428us/sample - loss: 9.6906e-04\n",
      "Epoch 15/20\n",
      "8/8 [==============================] - 0s 249us/sample - loss: 9.3328e-04\n",
      "Epoch 16/20\n",
      "8/8 [==============================] - 0s 374us/sample - loss: 9.1769e-04\n",
      "Epoch 17/20\n",
      "8/8 [==============================] - 0s 422us/sample - loss: 9.1090e-04\n",
      "Epoch 18/20\n",
      "8/8 [==============================] - 0s 374us/sample - loss: 9.0795e-04\n",
      "Epoch 19/20\n",
      "8/8 [==============================] - 0s 286us/sample - loss: 9.0666e-04\n",
      "Epoch 20/20\n",
      "8/8 [==============================] - 0s 511us/sample - loss: 9.0610e-04\n"
     ]
    },
    {
     "data": {
      "text/plain": [
       "<tensorflow.python.keras.callbacks.History at 0x18c6755a148>"
      ]
     },
     "execution_count": 1446,
     "metadata": {},
     "output_type": "execute_result"
    }
   ],
   "source": [
    "opt = SGD(lr=1.5)\n",
    "c.compile(optimizer=opt,loss='mse')\n",
    "c.fit(X_M,Y_M,epochs = 20)"
   ]
  },
  {
   "cell_type": "code",
   "execution_count": 1424,
   "metadata": {},
   "outputs": [
    {
     "data": {
      "text/plain": [
       "(array([[0.13608276, 0.54433105, 0.13608276],\n",
       "        [0.20628425, 0.51571062, 0.10314212],\n",
       "        [0.24828177, 0.08276059, 0.49656353],\n",
       "        [0.37463432, 0.09365858, 0.37463432],\n",
       "        [0.10783277, 0.64699664, 0.        ],\n",
       "        [0.34299717, 0.34299717, 0.17149859],\n",
       "        [0.46423835, 0.09284767, 0.27854301],\n",
       "        [0.31622777, 0.42163702, 0.10540926]]), array([[0.81649658],\n",
       "        [0.825137  ],\n",
       "        [0.82760589],\n",
       "        [0.84292723],\n",
       "        [0.75482941],\n",
       "        [0.85749293],\n",
       "        [0.83562902],\n",
       "        [0.84327404]]))"
      ]
     },
     "execution_count": 1424,
     "metadata": {},
     "output_type": "execute_result"
    }
   ],
   "source": [
    "X_M  , Y_M"
   ]
  }
 ],
 "metadata": {
  "kernelspec": {
   "display_name": "Python 3",
   "language": "python",
   "name": "python3"
  },
  "language_info": {
   "codemirror_mode": {
    "name": "ipython",
    "version": 3
   },
   "file_extension": ".py",
   "mimetype": "text/x-python",
   "name": "python",
   "nbconvert_exporter": "python",
   "pygments_lexer": "ipython3",
   "version": "3.7.4"
  }
 },
 "nbformat": 4,
 "nbformat_minor": 2
}
