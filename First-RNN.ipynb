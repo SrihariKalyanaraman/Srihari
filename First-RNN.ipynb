{
 "cells": [
  {
   "cell_type": "code",
   "execution_count": 2,
   "metadata": {},
   "outputs": [],
   "source": [
    "import numpy as np\n",
    "import pandas as pd\n",
    "import matplotlib.pyplot as plt\n",
    "from sklearn.preprocessing import MinMaxScaler"
   ]
  },
  {
   "cell_type": "code",
   "execution_count": 3,
   "metadata": {},
   "outputs": [
    {
     "name": "stdout",
     "output_type": "stream",
     "text": [
      "<class 'pandas.core.frame.DataFrame'>\n",
      "RangeIndex: 1258 entries, 0 to 1257\n",
      "Data columns (total 6 columns):\n",
      "Date      1258 non-null object\n",
      "Open      1258 non-null float64\n",
      "High      1258 non-null float64\n",
      "Low       1258 non-null float64\n",
      "Close     1258 non-null object\n",
      "Volume    1258 non-null object\n",
      "dtypes: float64(3), object(3)\n",
      "memory usage: 59.1+ KB\n"
     ]
    }
   ],
   "source": [
    "df = pd.read_csv(r'D:\\P16-Recurrent-Neural-Networks\\Recurrent_Neural_Networks\\Google_Stock_Price_Train.csv')\n",
    "df.info()"
   ]
  },
  {
   "cell_type": "code",
   "execution_count": 4,
   "metadata": {},
   "outputs": [
    {
     "data": {
      "text/html": [
       "<div>\n",
       "<style scoped>\n",
       "    .dataframe tbody tr th:only-of-type {\n",
       "        vertical-align: middle;\n",
       "    }\n",
       "\n",
       "    .dataframe tbody tr th {\n",
       "        vertical-align: top;\n",
       "    }\n",
       "\n",
       "    .dataframe thead th {\n",
       "        text-align: right;\n",
       "    }\n",
       "</style>\n",
       "<table border=\"1\" class=\"dataframe\">\n",
       "  <thead>\n",
       "    <tr style=\"text-align: right;\">\n",
       "      <th></th>\n",
       "      <th>Date</th>\n",
       "      <th>Open</th>\n",
       "      <th>High</th>\n",
       "      <th>Low</th>\n",
       "      <th>Close</th>\n",
       "      <th>Volume</th>\n",
       "    </tr>\n",
       "  </thead>\n",
       "  <tbody>\n",
       "    <tr>\n",
       "      <th>0</th>\n",
       "      <td>1/3/2012</td>\n",
       "      <td>325.25</td>\n",
       "      <td>332.83</td>\n",
       "      <td>324.97</td>\n",
       "      <td>663.59</td>\n",
       "      <td>7,380,500</td>\n",
       "    </tr>\n",
       "    <tr>\n",
       "      <th>1</th>\n",
       "      <td>1/4/2012</td>\n",
       "      <td>331.27</td>\n",
       "      <td>333.87</td>\n",
       "      <td>329.08</td>\n",
       "      <td>666.45</td>\n",
       "      <td>5,749,400</td>\n",
       "    </tr>\n",
       "    <tr>\n",
       "      <th>2</th>\n",
       "      <td>1/5/2012</td>\n",
       "      <td>329.83</td>\n",
       "      <td>330.75</td>\n",
       "      <td>326.89</td>\n",
       "      <td>657.21</td>\n",
       "      <td>6,590,300</td>\n",
       "    </tr>\n",
       "    <tr>\n",
       "      <th>3</th>\n",
       "      <td>1/6/2012</td>\n",
       "      <td>328.34</td>\n",
       "      <td>328.77</td>\n",
       "      <td>323.68</td>\n",
       "      <td>648.24</td>\n",
       "      <td>5,405,900</td>\n",
       "    </tr>\n",
       "    <tr>\n",
       "      <th>4</th>\n",
       "      <td>1/9/2012</td>\n",
       "      <td>322.04</td>\n",
       "      <td>322.29</td>\n",
       "      <td>309.46</td>\n",
       "      <td>620.76</td>\n",
       "      <td>11,688,800</td>\n",
       "    </tr>\n",
       "  </tbody>\n",
       "</table>\n",
       "</div>"
      ],
      "text/plain": [
       "       Date    Open    High     Low   Close      Volume\n",
       "0  1/3/2012  325.25  332.83  324.97  663.59   7,380,500\n",
       "1  1/4/2012  331.27  333.87  329.08  666.45   5,749,400\n",
       "2  1/5/2012  329.83  330.75  326.89  657.21   6,590,300\n",
       "3  1/6/2012  328.34  328.77  323.68  648.24   5,405,900\n",
       "4  1/9/2012  322.04  322.29  309.46  620.76  11,688,800"
      ]
     },
     "execution_count": 4,
     "metadata": {},
     "output_type": "execute_result"
    }
   ],
   "source": [
    "df.head()"
   ]
  },
  {
   "cell_type": "markdown",
   "metadata": {},
   "source": [
    "# Preprocessing"
   ]
  },
  {
   "cell_type": "code",
   "execution_count": 5,
   "metadata": {},
   "outputs": [
    {
     "data": {
      "text/plain": [
       "(1258, 1)"
      ]
     },
     "execution_count": 5,
     "metadata": {},
     "output_type": "execute_result"
    }
   ],
   "source": [
    "training_set = df.iloc[:,1:2]\n",
    "training_set.shape"
   ]
  },
  {
   "cell_type": "code",
   "execution_count": 6,
   "metadata": {},
   "outputs": [],
   "source": [
    "sc = MinMaxScaler(feature_range=(0,1))\n",
    "training_set_scaled = sc.fit_transform(training_set)"
   ]
  },
  {
   "cell_type": "code",
   "execution_count": 7,
   "metadata": {},
   "outputs": [
    {
     "data": {
      "text/plain": [
       "array([[0.08581368],\n",
       "       [0.09701243],\n",
       "       [0.09433366],\n",
       "       ...,\n",
       "       [0.95725128],\n",
       "       [0.93796041],\n",
       "       [0.93688146]])"
      ]
     },
     "execution_count": 7,
     "metadata": {},
     "output_type": "execute_result"
    }
   ],
   "source": [
    "training_set_scaled"
   ]
  },
  {
   "cell_type": "code",
   "execution_count": 8,
   "metadata": {},
   "outputs": [],
   "source": [
    "X_train = []\n",
    "y_train = []\n",
    "for i in range(60,1258):\n",
    "    X_train.append(training_set_scaled[i-60:i,0])\n",
    "    y_train.append(training_set_scaled[i,0])\n",
    "\n",
    "X_train,y_train = np.array(X_train),np.array(y_train)"
   ]
  },
  {
   "cell_type": "code",
   "execution_count": 9,
   "metadata": {},
   "outputs": [],
   "source": [
    "X_train = X_train.reshape(X_train.shape[0],X_train.shape[1],1)"
   ]
  },
  {
   "cell_type": "code",
   "execution_count": 12,
   "metadata": {},
   "outputs": [
    {
     "data": {
      "text/plain": [
       "array([0.08627874, 0.08471612, 0.07454052, ..., 0.95725128, 0.93796041,\n",
       "       0.93688146])"
      ]
     },
     "execution_count": 12,
     "metadata": {},
     "output_type": "execute_result"
    }
   ],
   "source": [
    "y_train"
   ]
  },
  {
   "cell_type": "markdown",
   "metadata": {},
   "source": [
    "# MODEL"
   ]
  },
  {
   "cell_type": "code",
   "execution_count": 20,
   "metadata": {},
   "outputs": [],
   "source": [
    "import tensorflow as tf\n",
    "from tensorflow.keras.models import Sequential\n",
    "from tensorflow.keras.layers import LSTM\n",
    "from tensorflow.keras.layers import Dense\n",
    "from tensorflow.keras.layers import Dropout"
   ]
  },
  {
   "cell_type": "code",
   "execution_count": 21,
   "metadata": {},
   "outputs": [],
   "source": [
    "regressor = Sequential()"
   ]
  },
  {
   "cell_type": "code",
   "execution_count": 25,
   "metadata": {},
   "outputs": [],
   "source": [
    "regressor.add(LSTM(units=50,return_sequences=True,input_shape = (X_train.shape[1],1)))"
   ]
  },
  {
   "cell_type": "code",
   "execution_count": 26,
   "metadata": {},
   "outputs": [],
   "source": [
    "regressor.add(Dropout(0.2))"
   ]
  },
  {
   "cell_type": "code",
   "execution_count": 27,
   "metadata": {},
   "outputs": [],
   "source": [
    "regressor.add(LSTM(units=50,return_sequences=True))\n",
    "regressor.add(Dropout(0.2))\n",
    "regressor.add(LSTM(units=50,return_sequences=True))\n",
    "regressor.add(Dropout(0.2))\n",
    "regressor.add(LSTM(units=50,return_sequences=False))\n",
    "regressor.add(Dropout(0.2))"
   ]
  },
  {
   "cell_type": "code",
   "execution_count": 28,
   "metadata": {},
   "outputs": [],
   "source": [
    "regressor.add(Dense(units=1))"
   ]
  },
  {
   "cell_type": "code",
   "execution_count": 29,
   "metadata": {},
   "outputs": [],
   "source": [
    "regressor.compile(optimizer='Adam',loss='mse')"
   ]
  },
  {
   "cell_type": "code",
   "execution_count": 30,
   "metadata": {},
   "outputs": [
    {
     "name": "stdout",
     "output_type": "stream",
     "text": [
      "Train on 1198 samples\n",
      "Epoch 1/100\n",
      "1198/1198 [==============================] - 26s 22ms/sample - loss: 0.0425\n",
      "Epoch 2/100\n",
      "1198/1198 [==============================] - 9s 8ms/sample - loss: 0.0056\n",
      "Epoch 3/100\n",
      "1198/1198 [==============================] - 9s 7ms/sample - loss: 0.0050\n",
      "Epoch 4/100\n",
      "1198/1198 [==============================] - 9s 8ms/sample - loss: 0.0050\n",
      "Epoch 5/100\n",
      "1198/1198 [==============================] - 9s 8ms/sample - loss: 0.0050\n",
      "Epoch 6/100\n",
      "1198/1198 [==============================] - 9s 7ms/sample - loss: 0.0045\n",
      "Epoch 7/100\n",
      "1198/1198 [==============================] - 9s 8ms/sample - loss: 0.0047\n",
      "Epoch 8/100\n",
      "1198/1198 [==============================] - 9s 8ms/sample - loss: 0.0041\n",
      "Epoch 9/100\n",
      "1198/1198 [==============================] - 9s 7ms/sample - loss: 0.0040\n",
      "Epoch 10/100\n",
      "1198/1198 [==============================] - 9s 8ms/sample - loss: 0.0044\n",
      "Epoch 11/100\n",
      "1198/1198 [==============================] - 8s 7ms/sample - loss: 0.0040\n",
      "Epoch 12/100\n",
      "1198/1198 [==============================] - 10s 8ms/sample - loss: 0.0043\n",
      "Epoch 13/100\n",
      "1198/1198 [==============================] - 9s 7ms/sample - loss: 0.0047\n",
      "Epoch 14/100\n",
      "1198/1198 [==============================] - 9s 7ms/sample - loss: 0.0042\n",
      "Epoch 15/100\n",
      "1198/1198 [==============================] - 10s 8ms/sample - loss: 0.0041\n",
      "Epoch 16/100\n",
      "1198/1198 [==============================] - 9s 7ms/sample - loss: 0.0039\n",
      "Epoch 17/100\n",
      "1198/1198 [==============================] - 9s 8ms/sample - loss: 0.0039\n",
      "Epoch 18/100\n",
      "1198/1198 [==============================] - 9s 8ms/sample - loss: 0.0034\n",
      "Epoch 19/100\n",
      "1198/1198 [==============================] - 9s 8ms/sample - loss: 0.0040\n",
      "Epoch 20/100\n",
      "1198/1198 [==============================] - 9s 8ms/sample - loss: 0.0041\n",
      "Epoch 21/100\n",
      "1198/1198 [==============================] - 9s 8ms/sample - loss: 0.0035\n",
      "Epoch 22/100\n",
      "1198/1198 [==============================] - 9s 8ms/sample - loss: 0.0034\n",
      "Epoch 23/100\n",
      "1198/1198 [==============================] - 9s 7ms/sample - loss: 0.0031\n",
      "Epoch 24/100\n",
      "1198/1198 [==============================] - 9s 8ms/sample - loss: 0.0036\n",
      "Epoch 25/100\n",
      "1198/1198 [==============================] - 9s 8ms/sample - loss: 0.0034\n",
      "Epoch 26/100\n",
      "1198/1198 [==============================] - 9s 7ms/sample - loss: 0.0037\n",
      "Epoch 27/100\n",
      "1198/1198 [==============================] - 9s 7ms/sample - loss: 0.0026\n",
      "Epoch 28/100\n",
      "1198/1198 [==============================] - 9s 7ms/sample - loss: 0.0027\n",
      "Epoch 29/100\n",
      "1198/1198 [==============================] - 8s 7ms/sample - loss: 0.0029\n",
      "Epoch 30/100\n",
      "1198/1198 [==============================] - 9s 8ms/sample - loss: 0.0031\n",
      "Epoch 31/100\n",
      "1198/1198 [==============================] - 9s 7ms/sample - loss: 0.0028\n",
      "Epoch 32/100\n",
      "1198/1198 [==============================] - 9s 7ms/sample - loss: 0.0027\n",
      "Epoch 33/100\n",
      "1198/1198 [==============================] - ETA: 0s - loss: 0.002 - 8s 7ms/sample - loss: 0.0027\n",
      "Epoch 34/100\n",
      "1198/1198 [==============================] - 9s 7ms/sample - loss: 0.0033\n",
      "Epoch 35/100\n",
      "1198/1198 [==============================] - 9s 7ms/sample - loss: 0.0030\n",
      "Epoch 36/100\n",
      "1198/1198 [==============================] - 8s 7ms/sample - loss: 0.0024\n",
      "Epoch 37/100\n",
      "1198/1198 [==============================] - 9s 7ms/sample - loss: 0.0025\n",
      "Epoch 38/100\n",
      "1198/1198 [==============================] - 9s 8ms/sample - loss: 0.0025\n",
      "Epoch 39/100\n",
      "1198/1198 [==============================] - 9s 7ms/sample - loss: 0.0025\n",
      "Epoch 40/100\n",
      "1198/1198 [==============================] - 9s 7ms/sample - loss: 0.0024\n",
      "Epoch 41/100\n",
      "1198/1198 [==============================] - 9s 7ms/sample - loss: 0.0028\n",
      "Epoch 42/100\n",
      "1198/1198 [==============================] - 9s 7ms/sample - loss: 0.0023\n",
      "Epoch 43/100\n",
      "1198/1198 [==============================] - 8s 7ms/sample - loss: 0.0027\n",
      "Epoch 44/100\n",
      "1198/1198 [==============================] - 8s 7ms/sample - loss: 0.0025\n",
      "Epoch 45/100\n",
      "1198/1198 [==============================] - 9s 7ms/sample - loss: 0.0025\n",
      "Epoch 46/100\n",
      "1198/1198 [==============================] - 9s 7ms/sample - loss: 0.0023\n",
      "Epoch 47/100\n",
      "1198/1198 [==============================] - 8s 7ms/sample - loss: 0.0027\n",
      "Epoch 48/100\n",
      "1198/1198 [==============================] - 9s 7ms/sample - loss: 0.0024\n",
      "Epoch 49/100\n",
      "1198/1198 [==============================] - 9s 8ms/sample - loss: 0.0022\n",
      "Epoch 50/100\n",
      "1198/1198 [==============================] - 9s 7ms/sample - loss: 0.0022\n",
      "Epoch 51/100\n",
      "1198/1198 [==============================] - 9s 7ms/sample - loss: 0.0023\n",
      "Epoch 52/100\n",
      "1198/1198 [==============================] - 9s 7ms/sample - loss: 0.0024\n",
      "Epoch 53/100\n",
      "1198/1198 [==============================] - 8s 7ms/sample - loss: 0.0021\n",
      "Epoch 54/100\n",
      "1198/1198 [==============================] - 8s 7ms/sample - loss: 0.0019\n",
      "Epoch 55/100\n",
      "1198/1198 [==============================] - 8s 7ms/sample - loss: 0.0021\n",
      "Epoch 56/100\n",
      "1198/1198 [==============================] - 9s 8ms/sample - loss: 0.0021\n",
      "Epoch 57/100\n",
      "1198/1198 [==============================] - 8s 7ms/sample - loss: 0.0020\n",
      "Epoch 58/100\n",
      "1198/1198 [==============================] - 9s 7ms/sample - loss: 0.0024\n",
      "Epoch 59/100\n",
      "1198/1198 [==============================] - 10s 8ms/sample - loss: 0.0020\n",
      "Epoch 60/100\n",
      "1198/1198 [==============================] - 9s 7ms/sample - loss: 0.0020\n",
      "Epoch 61/100\n",
      "1198/1198 [==============================] - 9s 7ms/sample - loss: 0.0020\n",
      "Epoch 62/100\n",
      "1198/1198 [==============================] - 9s 8ms/sample - loss: 0.0019\n",
      "Epoch 63/100\n",
      "1198/1198 [==============================] - 9s 7ms/sample - loss: 0.0018\n",
      "Epoch 64/100\n",
      "1198/1198 [==============================] - 8s 7ms/sample - loss: 0.0020\n",
      "Epoch 65/100\n",
      "1198/1198 [==============================] - 8s 7ms/sample - loss: 0.0018\n",
      "Epoch 66/100\n",
      "1198/1198 [==============================] - 8s 7ms/sample - loss: 0.0020\n",
      "Epoch 67/100\n",
      "1198/1198 [==============================] - 8s 7ms/sample - loss: 0.0019\n",
      "Epoch 68/100\n",
      "1198/1198 [==============================] - 8s 7ms/sample - loss: 0.0016\n",
      "Epoch 69/100\n",
      "1198/1198 [==============================] - 9s 7ms/sample - loss: 0.0019\n",
      "Epoch 70/100\n",
      "1198/1198 [==============================] - 9s 7ms/sample - loss: 0.0017\n",
      "Epoch 71/100\n",
      "1198/1198 [==============================] - 9s 7ms/sample - loss: 0.0017\n",
      "Epoch 72/100\n",
      "1198/1198 [==============================] - 9s 7ms/sample - loss: 0.0019\n",
      "Epoch 73/100\n",
      "1198/1198 [==============================] - 9s 7ms/sample - loss: 0.0019\n",
      "Epoch 74/100\n",
      "1198/1198 [==============================] - 9s 7ms/sample - loss: 0.0017\n",
      "Epoch 75/100\n",
      "1198/1198 [==============================] - 9s 7ms/sample - loss: 0.0018\n",
      "Epoch 76/100\n",
      "1198/1198 [==============================] - 9s 8ms/sample - loss: 0.0018\n",
      "Epoch 77/100\n",
      "1198/1198 [==============================] - 9s 8ms/sample - loss: 0.0019\n",
      "Epoch 78/100\n",
      "1198/1198 [==============================] - 8s 7ms/sample - loss: 0.0015\n",
      "Epoch 79/100\n",
      "1198/1198 [==============================] - 8s 7ms/sample - loss: 0.0018\n",
      "Epoch 80/100\n",
      "1198/1198 [==============================] - 9s 7ms/sample - loss: 0.0016\n",
      "Epoch 81/100\n",
      "1198/1198 [==============================] - 8s 7ms/sample - loss: 0.0016\n",
      "Epoch 82/100\n",
      "1198/1198 [==============================] - 9s 8ms/sample - loss: 0.0016\n",
      "Epoch 83/100\n",
      "1198/1198 [==============================] - 9s 8ms/sample - loss: 0.0017\n",
      "Epoch 84/100\n",
      "1198/1198 [==============================] - 9s 8ms/sample - loss: 0.0017\n",
      "Epoch 85/100\n",
      "1198/1198 [==============================] - 9s 7ms/sample - loss: 0.0018\n",
      "Epoch 86/100\n",
      "1198/1198 [==============================] - 9s 8ms/sample - loss: 0.0015\n",
      "Epoch 87/100\n",
      "1198/1198 [==============================] - 9s 8ms/sample - loss: 0.0015\n",
      "Epoch 88/100\n",
      "1198/1198 [==============================] - 10s 8ms/sample - loss: 0.0015\n",
      "Epoch 89/100\n",
      "1198/1198 [==============================] - 9s 8ms/sample - loss: 0.0017\n",
      "Epoch 90/100\n",
      "1198/1198 [==============================] - 9s 8ms/sample - loss: 0.0014\n",
      "Epoch 91/100\n",
      "1198/1198 [==============================] - 8s 7ms/sample - loss: 0.0014\n",
      "Epoch 92/100\n",
      "1198/1198 [==============================] - 8s 7ms/sample - loss: 0.0015\n",
      "Epoch 93/100\n",
      "1198/1198 [==============================] - 9s 7ms/sample - loss: 0.0015\n",
      "Epoch 94/100\n",
      "1198/1198 [==============================] - 9s 8ms/sample - loss: 0.0012\n",
      "Epoch 95/100\n",
      "1198/1198 [==============================] - 9s 7ms/sample - loss: 0.0013\n",
      "Epoch 96/100\n",
      "1198/1198 [==============================] - 9s 7ms/sample - loss: 0.0013\n",
      "Epoch 97/100\n",
      "1198/1198 [==============================] - 9s 8ms/sample - loss: 0.0013\n",
      "Epoch 98/100\n",
      "1198/1198 [==============================] - 9s 7ms/sample - loss: 0.0014\n",
      "Epoch 99/100\n",
      "1198/1198 [==============================] - 9s 8ms/sample - loss: 0.0015\n",
      "Epoch 100/100\n",
      "1198/1198 [==============================] - 9s 8ms/sample - loss: 0.0012\n"
     ]
    },
    {
     "data": {
      "text/plain": [
       "<tensorflow.python.keras.callbacks.History at 0x1cbec70cc48>"
      ]
     },
     "execution_count": 30,
     "metadata": {},
     "output_type": "execute_result"
    }
   ],
   "source": [
    "regressor.fit(X_train,y_train,epochs=100,verbose=True,batch_size=32)"
   ]
  },
  {
   "cell_type": "markdown",
   "metadata": {},
   "source": [
    "# Test file "
   ]
  },
  {
   "cell_type": "code",
   "execution_count": 31,
   "metadata": {},
   "outputs": [
    {
     "name": "stdout",
     "output_type": "stream",
     "text": [
      "<class 'pandas.core.frame.DataFrame'>\n",
      "RangeIndex: 20 entries, 0 to 19\n",
      "Data columns (total 6 columns):\n",
      "Date      20 non-null object\n",
      "Open      20 non-null float64\n",
      "High      20 non-null float64\n",
      "Low       20 non-null float64\n",
      "Close     20 non-null float64\n",
      "Volume    20 non-null object\n",
      "dtypes: float64(4), object(2)\n",
      "memory usage: 1.1+ KB\n"
     ]
    }
   ],
   "source": [
    "df_test = pd.read_csv(r'D:\\P16-Recurrent-Neural-Networks\\Recurrent_Neural_Networks\\Google_Stock_Price_Test.csv')\n",
    "df_test.info()"
   ]
  },
  {
   "cell_type": "code",
   "execution_count": 32,
   "metadata": {},
   "outputs": [],
   "source": [
    "real_stock_price = df_test.iloc[:,1:2].values"
   ]
  },
  {
   "cell_type": "code",
   "execution_count": 33,
   "metadata": {},
   "outputs": [],
   "source": [
    "dataset_total = pd.concat((df['Open'],df_test['Open']),axis=0)\n",
    "inputs = dataset_total[len(df)-len(df_test)-60:].values\n",
    "inputs = inputs.reshape(-1,1)\n",
    "inputs = sc.transform(inputs)"
   ]
  },
  {
   "cell_type": "code",
   "execution_count": 34,
   "metadata": {},
   "outputs": [],
   "source": [
    "X_test= []\n",
    "for i in range(60,80):\n",
    "    X_test.append(inputs[i-60:i,0])\n",
    "\n",
    "X_test = np.array(X_test)"
   ]
  },
  {
   "cell_type": "code",
   "execution_count": 36,
   "metadata": {},
   "outputs": [],
   "source": [
    "X_test = X_test.reshape(X_test.shape[0],X_test.shape[1],1)"
   ]
  },
  {
   "cell_type": "code",
   "execution_count": 38,
   "metadata": {},
   "outputs": [],
   "source": [
    "y_pred = regressor.predict(X_test)\n",
    "y_pred = sc.inverse_transform(y_pred)"
   ]
  },
  {
   "cell_type": "code",
   "execution_count": 39,
   "metadata": {},
   "outputs": [
    {
     "data": {
      "text/plain": [
       "array([[751.9121 ],\n",
       "       [745.4021 ],\n",
       "       [743.41345],\n",
       "       [746.32153],\n",
       "       [748.8669 ],\n",
       "       [753.2448 ],\n",
       "       [758.6132 ],\n",
       "       [763.3772 ],\n",
       "       [768.4044 ],\n",
       "       [772.41504],\n",
       "       [774.4053 ],\n",
       "       [776.01697],\n",
       "       [774.0842 ],\n",
       "       [774.15216],\n",
       "       [775.0802 ],\n",
       "       [775.22144],\n",
       "       [774.8335 ],\n",
       "       [774.52936],\n",
       "       [775.3958 ],\n",
       "       [773.2605 ]], dtype=float32)"
      ]
     },
     "execution_count": 39,
     "metadata": {},
     "output_type": "execute_result"
    }
   ],
   "source": [
    "y_pred"
   ]
  },
  {
   "cell_type": "code",
   "execution_count": 40,
   "metadata": {},
   "outputs": [
    {
     "data": {
      "text/plain": [
       "array([[778.81],\n",
       "       [788.36],\n",
       "       [786.08],\n",
       "       [795.26],\n",
       "       [806.4 ],\n",
       "       [807.86],\n",
       "       [805.  ],\n",
       "       [807.14],\n",
       "       [807.48],\n",
       "       [807.08],\n",
       "       [805.81],\n",
       "       [805.12],\n",
       "       [806.91],\n",
       "       [807.25],\n",
       "       [822.3 ],\n",
       "       [829.62],\n",
       "       [837.81],\n",
       "       [834.71],\n",
       "       [814.66],\n",
       "       [796.86]])"
      ]
     },
     "execution_count": 40,
     "metadata": {},
     "output_type": "execute_result"
    }
   ],
   "source": [
    "real_stock_price"
   ]
  },
  {
   "cell_type": "markdown",
   "metadata": {},
   "source": [
    " # comparison"
   ]
  },
  {
   "cell_type": "code",
   "execution_count": 49,
   "metadata": {},
   "outputs": [
    {
     "data": {
      "image/png": "[encoded data removed]",
      "text/plain": [
       "<Figure size 432x288 with 1 Axes>"
      ]
     },
     "metadata": {
      "needs_background": "light"
     },
     "output_type": "display_data"
    }
   ],
   "source": [
    "plt.plot(real_stock_price,color='red',label = 'real_price')\n",
    "plt.plot(y_pred,color='blue',label = 'predicted_price')\n",
    "plt.legend()\n",
    "plt.show()"
   ]
  },
  {
   "cell_type": "code",
   "execution_count": null,
   "metadata": {},
   "outputs": [],
   "source": []
  }
 ],
 "metadata": {
  "kernelspec": {
   "display_name": "Python 3",
   "language": "python",
   "name": "python3"
  },
  "language_info": {
   "codemirror_mode": {
    "name": "ipython",
    "version": 3
   },
   "file_extension": ".py",
   "mimetype": "text/x-python",
   "name": "python",
   "nbconvert_exporter": "python",
   "pygments_lexer": "ipython3",
   "version": "3.7.4"
  }
 },
 "nbformat": 4,
 "nbformat_minor": 2
}
